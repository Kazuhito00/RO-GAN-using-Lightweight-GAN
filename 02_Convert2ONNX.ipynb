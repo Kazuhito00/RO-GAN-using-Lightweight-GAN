{
  "nbformat": 4,
  "nbformat_minor": 0,
  "metadata": {
    "colab": {
      "name": "02_Convert2ONNX.ipynb",
      "provenance": [],
      "collapsed_sections": [],
      "toc_visible": true,
      "machine_shape": "hm"
    },
    "kernelspec": {
      "display_name": "Python 3",
      "language": "python",
      "name": "python3"
    },
    "language_info": {
      "codemirror_mode": {
        "name": "ipython",
        "version": 3
      },
      "file_extension": ".py",
      "mimetype": "text/x-python",
      "name": "python",
      "nbconvert_exporter": "python",
      "pygments_lexer": "ipython3",
      "version": "3.7.9"
    },
    "accelerator": "GPU"
  },
  "cells": [
    {
      "cell_type": "markdown",
      "metadata": {
        "id": "Zp9dvXdAtvMY"
      },
      "source": [
        "# 02_Convert2ONNX\n",
        "https://github.com/Kazuhito00/RO-GAN-using-Lightweight-GAN"
      ]
    },
    {
      "cell_type": "markdown",
      "metadata": {
        "id": "tfDvpi0ktzme"
      },
      "source": [
        "# Google Colaboratory：Google Driveマウント"
      ]
    },
    {
      "cell_type": "code",
      "metadata": {
        "id": "N-07votFKG-Z"
      },
      "source": [
        "from google.colab import drive\n",
        "drive.mount('/content/drive')"
      ],
      "execution_count": null,
      "outputs": []
    },
    {
      "cell_type": "code",
      "metadata": {
        "id": "97gtQW6sK2K_"
      },
      "source": [
        "%cd '/content/drive/MyDrive'"
      ],
      "execution_count": null,
      "outputs": []
    },
    {
      "cell_type": "markdown",
      "metadata": {
        "id": "nuSyXv52vMIl"
      },
      "source": [
        "# Lightweight GAN準備"
      ]
    },
    {
      "cell_type": "code",
      "metadata": {
        "id": "gp6XNZLsuEuD"
      },
      "source": [
        "!git clone https://github.com/lucidrains/lightweight-gan"
      ],
      "execution_count": null,
      "outputs": []
    },
    {
      "cell_type": "code",
      "metadata": {
        "id": "A4DfuHUzupE1"
      },
      "source": [
        "!cp -rf /content/drive/MyDrive/lightweight-gan/lightweight_gan ./\n",
        "!rm -rf /content/drive/MyDrive/lightweight-gan"
      ],
      "execution_count": 7,
      "outputs": []
    },
    {
      "cell_type": "code",
      "metadata": {
        "id": "1UtVJRxTu-Lg"
      },
      "source": [
        "!pip install kornia\n",
        "!pip install einops\n",
        "!pip install adabelief_pytorch"
      ],
      "execution_count": null,
      "outputs": []
    },
    {
      "cell_type": "markdown",
      "metadata": {
        "id": "yJt50myVUqwQ"
      },
      "source": [
        "# ONNX変換"
      ]
    },
    {
      "cell_type": "code",
      "metadata": {
        "id": "GyoofuAsU8TK"
      },
      "source": [
        "from lightweight_gan import Trainer"
      ],
      "execution_count": 14,
      "outputs": []
    },
    {
      "cell_type": "code",
      "metadata": {
        "id": "j3Ysy9toU_H-"
      },
      "source": [
        "model_args = dict(\n",
        "    name = 'RO',\n",
        "    image_size = 256,\n",
        ")"
      ],
      "execution_count": 35,
      "outputs": []
    },
    {
      "cell_type": "code",
      "metadata": {
        "id": "Vte8CVltVIto"
      },
      "source": [
        "model = Trainer(**model_args)\n",
        "model.load(-1)"
      ],
      "execution_count": null,
      "outputs": []
    },
    {
      "cell_type": "code",
      "metadata": {
        "id": "CsfSPccPjIeX"
      },
      "source": [
        "import torch\n",
        "\n",
        "latent_dim = model.GAN.latent_dim\n",
        "latent = torch.randn((1, latent_dim)).cuda(model.rank)\n",
        "\n",
        "model.GAN.eval()\n",
        "torch.onnx.export(model.GAN.GE, latent, \"ro_gan.onnx\", opset_version=12)\n",
        "\n",
        "model.GAN.GE.eval()\n",
        "torch.onnx.export(model.GAN.GE, latent, \"ro_gan_ge.onnx\", opset_version=12)"
      ],
      "execution_count": 46,
      "outputs": []
    }
  ]
}
