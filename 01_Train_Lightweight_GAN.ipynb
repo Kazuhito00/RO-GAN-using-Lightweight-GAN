{
  "nbformat": 4,
  "nbformat_minor": 0,
  "metadata": {
    "accelerator": "GPU",
    "colab": {
      "name": "01_Train_Lightweight-GAN",
      "provenance": [],
      "collapsed_sections": [],
      "toc_visible": true,
      "machine_shape": "hm"
    },
    "kernelspec": {
      "display_name": "Python 3",
      "language": "python",
      "name": "python3"
    },
    "language_info": {
      "codemirror_mode": {
        "name": "ipython",
        "version": 3
      },
      "file_extension": ".py",
      "mimetype": "text/x-python",
      "name": "python",
      "nbconvert_exporter": "python",
      "pygments_lexer": "ipython3",
      "version": "3.7.9"
    }
  },
  "cells": [
    {
      "cell_type": "markdown",
      "metadata": {
        "id": "c8uk38LJLmyT"
      },
      "source": [
        "# 01_Train_Lightweight-GAN\n",
        "https://github.com/Kazuhito00/RO-GAN-using-Lightweight-GAN<br>\n",
        "ハードウェア アクセラレータ：GPU"
      ]
    },
    {
      "cell_type": "markdown",
      "metadata": {
        "id": "3A3lNbDOsUWX"
      },
      "source": [
        "# Google Colaboratory：GPU残時間確認"
      ]
    },
    {
      "cell_type": "code",
      "metadata": {
        "id": "_diDeQj_sSKl"
      },
      "source": [
        "!cat /proc/uptime | awk '{print 0.5 - ($1 /60 /60 /24)\"days (\" 12 - ($1 / 60 / 60) \"h)\"}'"
      ],
      "execution_count": null,
      "outputs": []
    },
    {
      "cell_type": "code",
      "metadata": {
        "id": "XhRJCHD2iZgK"
      },
      "source": [
        "!nvidia-smi"
      ],
      "execution_count": null,
      "outputs": []
    },
    {
      "cell_type": "markdown",
      "metadata": {
        "id": "Z5B-nshKVcr1"
      },
      "source": [
        "# Google Colaboratory：Google Driveマウント"
      ]
    },
    {
      "cell_type": "code",
      "metadata": {
        "id": "N-07votFKG-Z"
      },
      "source": [
        "from google.colab import drive\n",
        "drive.mount('/content/drive')"
      ],
      "execution_count": null,
      "outputs": []
    },
    {
      "cell_type": "code",
      "metadata": {
        "id": "97gtQW6sK2K_"
      },
      "source": [
        "%cd '/content/drive/MyDrive'"
      ],
      "execution_count": null,
      "outputs": []
    },
    {
      "cell_type": "markdown",
      "metadata": {
        "id": "_IboBUm-sg2v"
      },
      "source": [
        "# データセットダウンロード"
      ]
    },
    {
      "cell_type": "code",
      "metadata": {
        "id": "qHAfuq5KsiE6"
      },
      "source": [
        "!git clone https://github.com/Kazuhito00/RO-GAN-using-Lightweight-GAN"
      ],
      "execution_count": null,
      "outputs": []
    },
    {
      "cell_type": "markdown",
      "metadata": {
        "id": "r-r8DhgBaBTo"
      },
      "source": [
        "# セットアップ"
      ]
    },
    {
      "cell_type": "code",
      "metadata": {
        "id": "M3Vz1AdBPfcz"
      },
      "source": [
        "!pip install lightweight-gan"
      ],
      "execution_count": null,
      "outputs": []
    },
    {
      "cell_type": "markdown",
      "metadata": {
        "id": "StfegjM3VgjY"
      },
      "source": [
        "# モデルの学習"
      ]
    },
    {
      "cell_type": "code",
      "metadata": {
        "id": "mmxzlAQcw5am"
      },
      "source": [
        "# 学習の実行 \n",
        "!lightweight_gan \\\n",
        "    --data /content/drive/MyDrive/RO-GAN-using-Lightweight-GAN/01_dataset \\\n",
        "    --name 'RO' \\\n",
        "    --batch-size 64 \\\n",
        "    --gradient-accumulate-every 4 \\\n",
        "    --num-train-steps 200000 \\\n",
        "    --image-size 128"
      ],
      "execution_count": null,
      "outputs": []
    },
    {
      "cell_type": "markdown",
      "metadata": {
        "id": "5v12vWvTHm_G"
      },
      "source": [
        "# 学習済みモデルで画像生成"
      ]
    },
    {
      "cell_type": "code",
      "metadata": {
        "id": "RqrscKPFHP1e"
      },
      "source": [
        "# 学習済みモデルでJPG画像を生成\n",
        "!lightweight_gan --name 'RO' --generate"
      ],
      "execution_count": null,
      "outputs": []
    },
    {
      "cell_type": "code",
      "metadata": {
        "id": "voYpq8icGwTx"
      },
      "source": [
        "# 学習済みモデルでGIF動画を生成\n",
        "!lightweight_gan --name 'RO' --num-image-tiles 3 --generate-interpolation  --interpolation-num-steps 500"
      ],
      "execution_count": null,
      "outputs": []
    }
  ]
}
